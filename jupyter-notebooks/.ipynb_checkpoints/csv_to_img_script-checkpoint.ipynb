{
 "cells": [
  {
   "cell_type": "code",
   "execution_count": 7,
   "metadata": {},
   "outputs": [
    {
     "name": "stderr",
     "output_type": "stream",
     "text": [
      "WARNING:root:Lossy conversion from float64 to uint8. Range [0, 1]. Convert image to uint8 prior to saving to suppress this warning.\n"
     ]
    },
    {
     "name": "stdout",
     "output_type": "stream",
     "text": [
      "0.333058784241264\n",
      "1.0\n",
      "0.09758671195407295\n",
      "0.07263806716020133\n",
      "0.22247794200069737\n",
      "0.05061367511225634\n",
      "0.0\n",
      "0.3273154807180782\n",
      "0.17902502907838885\n",
      "0.12106122288047744\n",
      "0.0939421781953108\n",
      "0.06742679392373756\n",
      "0.01814464846165322\n",
      "0.016404755923803208\n",
      "0.011902731028543837\n",
      "0.459019852150988\n"
     ]
    }
   ],
   "source": [
    "import imageio\n",
    "import numpy as np\n",
    "from numpy import genfromtxt\n",
    "from sklearn import preprocessing\n",
    "\n",
    "\n",
    "\n",
    "activation_maps = genfromtxt(\"output_5.csv\", delimiter=\",\", usecols=range(0,28))\n",
    "\n",
    "image = np.empty((28,28))\n",
    "#print(image.shape)\n",
    "\n",
    "for i in range(16):\n",
    "    unnormed_filter = activation_maps[i*28:i*28+28]\n",
    "    \n",
    "    #print(unnormed_filter.shape)\n",
    "    norm_filter = unnormed_filter + np.abs(np.amin(unnormed_filter))\n",
    "    norm_filter = norm_filter / np.amax(norm_filter)\n",
    "    print(norm_filter[1][1])\n",
    "    if i == 0:\n",
    "        image = norm_filter\n",
    "    else:\n",
    "        image = np.append(image, norm_filter, axis=0)\n",
    "        #print(image.shape)\n",
    "    #print(unnormed_filter.reshape(-1)[np.argmax(unnormed_filter)])\n",
    "    #print(unnormed_filter[15])\n",
    "    #print(norm_filter.reshape(-1)[np.argmax(norm_filter)])\n",
    "    #print(norm_filter[15])\n",
    "\n",
    "\n",
    "imageio.imwrite(f\"output_5.png\", image)\n",
    "\n",
    "#test = np.arange(6,-6,-1).reshape(2,6)\n",
    "#np.insert(test,)\n",
    "#print(test)\n",
    "# image = 255* norm_filter\n",
    "\n"
   ]
  },
  {
   "cell_type": "code",
   "execution_count": 3,
   "metadata": {},
   "outputs": [
    {
     "data": {
      "text/plain": [
       "0.06804138174397717"
      ]
     },
     "execution_count": 3,
     "metadata": {},
     "output_type": "execute_result"
    }
   ],
   "source": [
    "import math\n",
    "\n",
    "math.sqrt(6 / ( 512 + 784))"
   ]
  }
 ],
 "metadata": {
  "kernelspec": {
   "display_name": "Python 3",
   "language": "python",
   "name": "python3"
  },
  "language_info": {
   "codemirror_mode": {
    "name": "ipython",
    "version": 3
   },
   "file_extension": ".py",
   "mimetype": "text/x-python",
   "name": "python",
   "nbconvert_exporter": "python",
   "pygments_lexer": "ipython3",
   "version": "3.6.5"
  }
 },
 "nbformat": 4,
 "nbformat_minor": 2
}
